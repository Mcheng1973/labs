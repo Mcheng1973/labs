{
  "nbformat": 4,
  "nbformat_minor": 0,
  "metadata": {
    "colab": {
      "provenance": []
    },
    "kernelspec": {
      "name": "python3",
      "display_name": "Python 3"
    },
    "language_info": {
      "name": "python"
    }
  },
  "cells": [
    {
      "cell_type": "code",
      "execution_count": 2,
      "metadata": {
        "id": "-lkSnt44clOd"
      },
      "outputs": [],
      "source": [
        "import pandas as pd\n",
        "\n",
        "url = 'https://raw.githubusercontent.com/DS3001/labs/refs/heads/main/04_hedonic_pricing/airbnb_hw.csv'\n",
        "df = pd.read_csv(url)\n"
      ]
    },
    {
      "cell_type": "code",
      "source": [
        "import numpy as np\n",
        "url = 'https://raw.githubusercontent.com/DS3001/labs/refs/heads/main/04_hedonic_pricing/airbnb_hw.csv'\n",
        "data = pd.read_csv(url)\n",
        "\n",
        "# Display basic info about the dataset\n",
        "print(\"Data Info:\")\n",
        "data.info()\n",
        "\n",
        "# Display the first few rows to understand the structure\n",
        "print(\"\\nFirst Few Rows:\")\n",
        "print(data.head())\n",
        "\n",
        "# Check for missing values\n",
        "print(\"\\nMissing Values:\")\n",
        "print(data.isnull().sum())\n",
        "\n",
        "# Handle missing values (Example: drop rows with missing values)\n",
        "# Alternatively, you can fill missing values with mean, median, or another appropriate value based on the column\n",
        "data.dropna(inplace=True)\n",
        "\n",
        "# Remove duplicate rows if any\n",
        "data.drop_duplicates(inplace=True)\n",
        "\n",
        "# Summary statistics to understand the distribution of numerical features\n",
        "print(\"\\nSummary Statistics:\")\n",
        "print(data.describe())\n"
      ],
      "metadata": {
        "colab": {
          "base_uri": "https://localhost:8080/"
        },
        "id": "ePVuUAoXgNCF",
        "outputId": "10d6c6fa-c944-4fdf-c13d-c0fb9b5834e1"
      },
      "execution_count": 4,
      "outputs": [
        {
          "output_type": "stream",
          "name": "stdout",
          "text": [
            "Data Info:\n",
            "<class 'pandas.core.frame.DataFrame'>\n",
            "RangeIndex: 30478 entries, 0 to 30477\n",
            "Data columns (total 13 columns):\n",
            " #   Column                      Non-Null Count  Dtype  \n",
            "---  ------                      --------------  -----  \n",
            " 0   Host Id                     30478 non-null  int64  \n",
            " 1   Host Since                  30475 non-null  object \n",
            " 2   Name                        30478 non-null  object \n",
            " 3   Neighbourhood               30478 non-null  object \n",
            " 4   Property Type               30475 non-null  object \n",
            " 5   Review Scores Rating (bin)  22155 non-null  float64\n",
            " 6   Room Type                   30478 non-null  object \n",
            " 7   Zipcode                     30344 non-null  float64\n",
            " 8   Beds                        30393 non-null  float64\n",
            " 9   Number of Records           30478 non-null  int64  \n",
            " 10  Number Of Reviews           30478 non-null  int64  \n",
            " 11  Price                       30478 non-null  object \n",
            " 12  Review Scores Rating        22155 non-null  float64\n",
            "dtypes: float64(4), int64(3), object(6)\n",
            "memory usage: 3.0+ MB\n",
            "\n",
            "First Few Rows:\n",
            "    Host Id Host Since                                Name Neighbourhood   \\\n",
            "0   5162530        NaN     1 Bedroom in Prime Williamsburg       Brooklyn   \n",
            "1  33134899        NaN     Sunny, Private room in Bushwick       Brooklyn   \n",
            "2  39608626        NaN                Sunny Room in Harlem      Manhattan   \n",
            "3       500  6/26/2008  Gorgeous 1 BR with Private Balcony      Manhattan   \n",
            "4       500  6/26/2008            Trendy Times Square Loft      Manhattan   \n",
            "\n",
            "  Property Type  Review Scores Rating (bin)        Room Type  Zipcode  Beds  \\\n",
            "0     Apartment                         NaN  Entire home/apt  11249.0   1.0   \n",
            "1     Apartment                         NaN     Private room  11206.0   1.0   \n",
            "2     Apartment                         NaN     Private room  10032.0   1.0   \n",
            "3     Apartment                         NaN  Entire home/apt  10024.0   3.0   \n",
            "4     Apartment                        95.0     Private room  10036.0   3.0   \n",
            "\n",
            "   Number of Records  Number Of Reviews Price  Review Scores Rating  \n",
            "0                  1                  0   145                   NaN  \n",
            "1                  1                  1    37                   NaN  \n",
            "2                  1                  1    28                   NaN  \n",
            "3                  1                  0   199                   NaN  \n",
            "4                  1                 39   549                  96.0  \n",
            "\n",
            "Missing Values:\n",
            "Host Id                          0\n",
            "Host Since                       3\n",
            "Name                             0\n",
            "Neighbourhood                    0\n",
            "Property Type                    3\n",
            "Review Scores Rating (bin)    8323\n",
            "Room Type                        0\n",
            "Zipcode                        134\n",
            "Beds                            85\n",
            "Number of Records                0\n",
            "Number Of Reviews                0\n",
            "Price                            0\n",
            "Review Scores Rating          8323\n",
            "dtype: int64\n",
            "\n",
            "Summary Statistics:\n",
            "            Host Id  Review Scores Rating (bin)       Zipcode          Beds  \\\n",
            "count  2.200700e+04                22007.000000  22007.000000  22007.000000   \n",
            "mean   1.104610e+07                   90.732949  10575.311037      1.556687   \n",
            "std    1.079848e+07                    9.069640    597.741247      1.043301   \n",
            "min    5.000000e+02                   20.000000   7105.000000      0.000000   \n",
            "25%    2.241260e+06                   85.000000  10016.000000      1.000000   \n",
            "50%    6.900870e+06                   90.000000  10044.000000      1.000000   \n",
            "75%    1.808596e+07                  100.000000  11216.000000      2.000000   \n",
            "max    4.272660e+07                  100.000000  11694.000000     16.000000   \n",
            "\n",
            "       Number of Records  Number Of Reviews  Review Scores Rating  \n",
            "count            22007.0       22007.000000          22007.000000  \n",
            "mean                 1.0          16.461490             91.987731  \n",
            "std                  0.0          24.231379              8.860796  \n",
            "min                  1.0           1.000000             20.000000  \n",
            "25%                  1.0           3.000000             89.000000  \n",
            "50%                  1.0           7.000000             94.000000  \n",
            "75%                  1.0          20.000000            100.000000  \n",
            "max                  1.0         257.000000            100.000000  \n"
          ]
        }
      ]
    },
    {
      "cell_type": "code",
      "source": [
        "from sklearn.model_selection import train_test_split\n",
        "from sklearn.linear_model import LinearRegression, Lasso\n",
        "from sklearn.metrics import mean_squared_error, r2_score\n",
        "from sklearn.preprocessing import OneHotEncoder\n",
        "import numpy as np\n",
        "\n",
        "# Select relevant features and target variable\n",
        "features = ['Property Type', 'Room Type', 'Beds', 'Number of Records', 'Number Of Reviews', 'Review Scores Rating']\n",
        "X = data[features]\n",
        "y = data['Price']\n",
        "\n",
        "\n"
      ],
      "metadata": {
        "id": "IsmmAIdAglym"
      },
      "execution_count": 16,
      "outputs": []
    },
    {
      "cell_type": "code",
      "source": [
        "# Remove commas from 'Price' column and convert to numeric\n",
        "data['Price'] = data['Price'].replace(',', '', regex=True).astype(float)\n",
        "\n",
        "# Re-split data after cleaning\n",
        "X = data[features]\n",
        "y = data['Price']\n",
        "\n",
        "# One-hot encode categorical variables\n",
        "X = pd.get_dummies(X, columns=['Property Type', 'Room Type'], drop_first=True)\n",
        "\n",
        "# Train-test split (80/20)\n",
        "X_train, X_test, y_train, y_test = train_test_split(X, y, test_size=0.2, random_state=42)\n",
        "\n",
        "# Now re-run the simple linear regression model code\n",
        "simple_model = LinearRegression()\n",
        "simple_model.fit(X_train, y_train)\n",
        "\n",
        "# Predict on training and test sets\n",
        "y_train_pred_simple = simple_model.predict(X_train)\n",
        "y_test_pred_simple = simple_model.predict(X_test)\n",
        "\n",
        "# Calculate RMSE and R^2\n",
        "rmse_train_simple = mean_squared_error(y_train, y_train_pred_simple, squared=False)\n",
        "rmse_test_simple = mean_squared_error(y_test, y_test_pred_simple, squared=False)\n",
        "r2_train_simple = r2_score(y_train, y_train_pred_simple)\n",
        "r2_test_simple = r2_score(y_test, y_test_pred_simple)\n",
        "\n",
        "print(\"Simple Model Results:\")\n",
        "print(f\"Training RMSE: {rmse_train_simple:.2f}, Training R^2: {r2_train_simple:.2f}\")\n",
        "print(f\"Test RMSE: {rmse_test_simple:.2f}, Test R^2: {r2_test_simple:.2f}\")\n"
      ],
      "metadata": {
        "colab": {
          "base_uri": "https://localhost:8080/"
        },
        "id": "zxoQeb7fjP0V",
        "outputId": "f6ddf799-7c36-4f1a-b32c-b961fd37c9cb"
      },
      "execution_count": 19,
      "outputs": [
        {
          "output_type": "stream",
          "name": "stdout",
          "text": [
            "Simple Model Results:\n",
            "Training RMSE: 130.69, Training R^2: 0.22\n",
            "Test RMSE: 133.11, Test R^2: 0.25\n"
          ]
        },
        {
          "output_type": "stream",
          "name": "stderr",
          "text": [
            "/usr/local/lib/python3.10/dist-packages/sklearn/metrics/_regression.py:492: FutureWarning: 'squared' is deprecated in version 1.4 and will be removed in 1.6. To calculate the root mean squared error, use the function'root_mean_squared_error'.\n",
            "  warnings.warn(\n",
            "/usr/local/lib/python3.10/dist-packages/sklearn/metrics/_regression.py:492: FutureWarning: 'squared' is deprecated in version 1.4 and will be removed in 1.6. To calculate the root mean squared error, use the function'root_mean_squared_error'.\n",
            "  warnings.warn(\n"
          ]
        }
      ]
    },
    {
      "cell_type": "code",
      "source": [
        "# Adding interaction terms and polynomial features\n",
        "X_train['Beds_Squared'] = X_train['Beds'] ** 2\n",
        "X_test['Beds_Squared'] = X_test['Beds'] ** 2\n",
        "\n",
        "# Complex Model\n",
        "complex_model = LinearRegression()\n",
        "complex_model.fit(X_train, y_train)\n",
        "\n",
        "# Predict on training and test sets\n",
        "y_train_pred_complex = complex_model.predict(X_train)\n",
        "y_test_pred_complex = complex_model.predict(X_test)\n",
        "\n",
        "# Calculate RMSE and R^2\n",
        "rmse_train_complex = mean_squared_error(y_train, y_train_pred_complex, squared=False)\n",
        "rmse_test_complex = mean_squared_error(y_test, y_test_pred_complex, squared=False)\n",
        "r2_train_complex = r2_score(y_train, y_train_pred_complex)\n",
        "r2_test_complex = r2_score(y_test, y_test_pred_complex)\n",
        "\n",
        "print(\"\\nComplex Model Results:\")\n",
        "print(f\"Training RMSE: {rmse_train_complex:.2f}, Training R^2: {r2_train_complex:.2f}\")\n",
        "print(f\"Test RMSE: {rmse_test_complex:.2f}, Test R^2: {r2_test_complex:.2f}\")\n"
      ],
      "metadata": {
        "colab": {
          "base_uri": "https://localhost:8080/"
        },
        "id": "lPmiwPlfjp1R",
        "outputId": "4c566802-86b7-431d-cdda-d254c95571af"
      },
      "execution_count": 21,
      "outputs": [
        {
          "output_type": "stream",
          "name": "stdout",
          "text": [
            "\n",
            "Complex Model Results:\n",
            "Training RMSE: 130.68, Training R^2: 0.22\n",
            "Test RMSE: 133.45, Test R^2: 0.25\n"
          ]
        },
        {
          "output_type": "stream",
          "name": "stderr",
          "text": [
            "/usr/local/lib/python3.10/dist-packages/sklearn/metrics/_regression.py:492: FutureWarning: 'squared' is deprecated in version 1.4 and will be removed in 1.6. To calculate the root mean squared error, use the function'root_mean_squared_error'.\n",
            "  warnings.warn(\n",
            "/usr/local/lib/python3.10/dist-packages/sklearn/metrics/_regression.py:492: FutureWarning: 'squared' is deprecated in version 1.4 and will be removed in 1.6. To calculate the root mean squared error, use the function'root_mean_squared_error'.\n",
            "  warnings.warn(\n"
          ]
        }
      ]
    },
    {
      "cell_type": "markdown",
      "source": [
        "With relatively low\n",
        "𝑅\n",
        "2\n",
        "R\n",
        "2\n",
        "  values (0.22 for training and 0.25 for test), both models are explaining only a small portion of the variance in the target variable (Price). This indicates that neither model fits the data particularly well, which could mean the models are too simple for the underlying relationships, or that there may be other important features not included in the model. Since both models perform similarly on the training and test sets, there's no clear sign of overfitting. Overfitting would generally result in a significantly higher\n",
        "𝑅\n",
        "2\n",
        "R\n",
        "2\n",
        "  and lower RMSE on the training set compared to the test set."
      ],
      "metadata": {
        "id": "FZ2U6YijluHJ"
      }
    },
    {
      "cell_type": "markdown",
      "source": [
        ". Data Exploration and Cleaning\n",
        "We started by exploring and cleaning the dataset to make it suitable for regression analysis. This included handling missing values, transforming categorical variables, and converting numeric columns with special characters (like commas).\n",
        "Key takeaway: Cleaning and preprocessing are essential steps to ensure that the data is in a usable format for modeling, especially when working with numerical and categorical variables.\n",
        "2. Building a Simple Linear Model\n",
        "We implemented a simple linear regression model with no transformations or interactions. The model yielded the following results:\n",
        "Training RMSE: 130.69, Training\n",
        "𝑅\n",
        "2\n",
        "R\n",
        "2\n",
        " : 0.22\n",
        "Test RMSE: 133.11, Test\n",
        "𝑅\n",
        "2\n",
        "R\n",
        "2\n",
        " : 0.25\n",
        "Key takeaway: The simple model achieved low\n",
        "𝑅\n",
        "2\n",
        "R\n",
        "2\n",
        "  scores on both the training and test sets, indicating it could not capture much variance in the target variable (price), potentially suggesting underfitting.\n",
        "3. Building a Complex Model with Transformations and Interactions\n",
        "We then built a more complex model by adding interaction terms and transformations to better capture relationships between features.\n",
        "The results for the complex model were nearly identical to the simple model:\n",
        "Training RMSE: 130.68, Training\n",
        "𝑅\n",
        "2\n",
        "R\n",
        "2\n",
        " : 0.22\n",
        "Test RMSE: 133.45, Test\n",
        "𝑅\n",
        "2\n",
        "R\n",
        "2\n",
        " : 0.25\n",
        "Key takeaway: The complex model’s metrics were nearly the same as those of the simple model, suggesting that the additional complexity did not help improve predictive performance. This implies that the added terms did not capture additional patterns, and the model might still be underfitting.\n",
        "4. Model Comparison and Insights on Overfitting and Underfitting\n",
        "The similarity in performance between the training and test sets for both models indicates a lack of overfitting; if the complex model were overfitting, we’d expect it to perform much better on the training set than on the test set.\n",
        "The low\n",
        "𝑅\n",
        "2\n",
        "R\n",
        "2\n",
        "  values, however, suggest underfitting in both models, as neither was able to explain much of the variance in price. This could be due to missing key predictors or inadequate feature engineering.\n",
        "5. Regularization with Lasso for Model Selection\n",
        "Implementing a Lasso model could help identify which features are most predictive of price by regularizing less important features to zero. This can improve interpretability by focusing on the most relevant variables while avoiding noise.\n",
        "Key takeaway: Regularization may aid in selecting important features and preventing overfitting, although it may not fully address underfitting if critical features are missing.\n"
      ],
      "metadata": {
        "id": "sK26ixl2l-jY"
      }
    }
  ]
}