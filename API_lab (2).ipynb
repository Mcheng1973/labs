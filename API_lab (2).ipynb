{
  "nbformat": 4,
  "nbformat_minor": 0,
  "metadata": {
    "colab": {
      "provenance": [],
      "toc_visible": true
    },
    "kernelspec": {
      "name": "python3",
      "display_name": "Python 3"
    },
    "language_info": {
      "name": "python"
    }
  },
  "cells": [
    {
      "cell_type": "code",
      "execution_count": 8,
      "metadata": {
        "colab": {
          "base_uri": "https://localhost:8080/"
        },
        "id": "2SRgBRSFIXXI",
        "outputId": "ca876e19-795d-4ec6-f44e-cd5bc923b773",
        "collapsed": true
      },
      "outputs": [
        {
          "output_type": "stream",
          "name": "stdout",
          "text": [
            "RemedyOptions\n",
            "[]                                                        66\n",
            "[{'Option': 'Repair'}]                                     9\n",
            "[{'Option': 'Replace'}]                                    8\n",
            "[{'Option': 'Refund'}]                                     5\n",
            "[{'Option': 'Replace'}, {'Option': 'Refund'}]              1\n",
            "[{'Option': 'Refund'}, {'Option': 'Repair'}]               1\n",
            "[{'Option': 'New Instructions'}, {'Option': 'Repair'}]     1\n",
            "Name: count, dtype: int64\n"
          ]
        }
      ],
      "source": [
        "import urllib.request\n",
        "import json\n",
        "url = 'https://www.saferproducts.gov/RestWebServices/' # Location of the API\n",
        "query = 'Recall?format=json&ProductType=Exercise' # The query\n",
        "response = urllib.request.urlopen(url+query)\n",
        "response_bytes = response.read()\n",
        "data = json.loads(response_bytes) # Convert response to json\n",
        "response.close()\n",
        "\n",
        "\n",
        "import pandas as pd\n",
        "\n",
        "df = pd.DataFrame.from_dict(data)\n",
        "remedy_counts = df['RemedyOptions'].value_counts()\n",
        "\n",
        "print(remedy_counts)\n"
      ]
    },
    {
      "cell_type": "code",
      "source": [
        "def flatten_column(df, column_name):\n",
        "    temp = df[column_name]\n",
        "    clean_values = []\n",
        "    for i in range(len(temp)):\n",
        "        if len(temp[i]) > 0:\n",
        "            values = []\n",
        "            for j in range(len(temp[i])):\n",
        "                values.append(temp[i][j]['Option'])\n",
        "            clean_values.append(values)\n",
        "        else:\n",
        "            clean_values.append('')\n",
        "    return clean_values\n",
        "\n",
        "# Apply the function to the 'RemedyOptions' column\n",
        "df['remedy'] = flatten_column(df, 'RemedyOptions')\n",
        "\n",
        "# Now you can analyze the flattened column\n",
        "remedy_counts = df['remedy'].value_counts()\n",
        "print(remedy_counts)\n"
      ],
      "metadata": {
        "colab": {
          "base_uri": "https://localhost:8080/"
        },
        "id": "3Z1nIYOHAG8A",
        "outputId": "200aa3dc-f200-421e-a6af-d31b8d4b95ba"
      },
      "execution_count": 9,
      "outputs": [
        {
          "output_type": "stream",
          "name": "stdout",
          "text": [
            "remedy\n",
            "                              66\n",
            "[Repair]                       9\n",
            "[Replace]                      8\n",
            "[Refund]                       5\n",
            "[Replace, Refund]              1\n",
            "[Refund, Repair]               1\n",
            "[New Instructions, Repair]     1\n",
            "Name: count, dtype: int64\n"
          ]
        }
      ]
    }
  ]
}